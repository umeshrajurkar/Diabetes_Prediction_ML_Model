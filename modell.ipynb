{
 "cells": [
  {
   "cell_type": "code",
   "execution_count": 17,
   "outputs": [],
   "source": [
    "from sklearn.linear_model import LinearRegression\n",
    "import pandas as pd"
   ],
   "metadata": {
    "collapsed": false,
    "pycharm": {
     "name": "#%%\n"
    }
   }
  },
  {
   "cell_type": "code",
   "execution_count": 19,
   "outputs": [
    {
     "data": {
      "text/plain": "    Fasting Sugar Frequent Unination Diabetes\n0              81                YES       NO\n1             120                 NO       NO\n2             150                YES      YES\n3              91                YES       NO\n4             150                 NO      YES\n5              78                YES       NO\n6              90                YES       NO\n7             140                YES      YES\n8              91                 NO       NO\n9             200                 NO      YES\n10            195                YES      YES\n11             70                YES       NO\n12             75                 NO       NO\n13            130                YES      YES\n14            125                 NO       NO\n15             60                YES       NO\n16            155                 NO      YES",
      "text/html": "<div>\n<style scoped>\n    .dataframe tbody tr th:only-of-type {\n        vertical-align: middle;\n    }\n\n    .dataframe tbody tr th {\n        vertical-align: top;\n    }\n\n    .dataframe thead th {\n        text-align: right;\n    }\n</style>\n<table border=\"1\" class=\"dataframe\">\n  <thead>\n    <tr style=\"text-align: right;\">\n      <th></th>\n      <th>Fasting Sugar</th>\n      <th>Frequent Unination</th>\n      <th>Diabetes</th>\n    </tr>\n  </thead>\n  <tbody>\n    <tr>\n      <th>0</th>\n      <td>81</td>\n      <td>YES</td>\n      <td>NO</td>\n    </tr>\n    <tr>\n      <th>1</th>\n      <td>120</td>\n      <td>NO</td>\n      <td>NO</td>\n    </tr>\n    <tr>\n      <th>2</th>\n      <td>150</td>\n      <td>YES</td>\n      <td>YES</td>\n    </tr>\n    <tr>\n      <th>3</th>\n      <td>91</td>\n      <td>YES</td>\n      <td>NO</td>\n    </tr>\n    <tr>\n      <th>4</th>\n      <td>150</td>\n      <td>NO</td>\n      <td>YES</td>\n    </tr>\n    <tr>\n      <th>5</th>\n      <td>78</td>\n      <td>YES</td>\n      <td>NO</td>\n    </tr>\n    <tr>\n      <th>6</th>\n      <td>90</td>\n      <td>YES</td>\n      <td>NO</td>\n    </tr>\n    <tr>\n      <th>7</th>\n      <td>140</td>\n      <td>YES</td>\n      <td>YES</td>\n    </tr>\n    <tr>\n      <th>8</th>\n      <td>91</td>\n      <td>NO</td>\n      <td>NO</td>\n    </tr>\n    <tr>\n      <th>9</th>\n      <td>200</td>\n      <td>NO</td>\n      <td>YES</td>\n    </tr>\n    <tr>\n      <th>10</th>\n      <td>195</td>\n      <td>YES</td>\n      <td>YES</td>\n    </tr>\n    <tr>\n      <th>11</th>\n      <td>70</td>\n      <td>YES</td>\n      <td>NO</td>\n    </tr>\n    <tr>\n      <th>12</th>\n      <td>75</td>\n      <td>NO</td>\n      <td>NO</td>\n    </tr>\n    <tr>\n      <th>13</th>\n      <td>130</td>\n      <td>YES</td>\n      <td>YES</td>\n    </tr>\n    <tr>\n      <th>14</th>\n      <td>125</td>\n      <td>NO</td>\n      <td>NO</td>\n    </tr>\n    <tr>\n      <th>15</th>\n      <td>60</td>\n      <td>YES</td>\n      <td>NO</td>\n    </tr>\n    <tr>\n      <th>16</th>\n      <td>155</td>\n      <td>NO</td>\n      <td>YES</td>\n    </tr>\n  </tbody>\n</table>\n</div>"
     },
     "execution_count": 19,
     "metadata": {},
     "output_type": "execute_result"
    }
   ],
   "source": [
    "df=pd.read_csv(\"data.csv\")\n",
    "df.head(99999)"
   ],
   "metadata": {
    "collapsed": false,
    "pycharm": {
     "name": "#%%\n"
    }
   }
  },
  {
   "cell_type": "code",
   "execution_count": 20,
   "outputs": [],
   "source": [
    "y=df['Diabetes']"
   ],
   "metadata": {
    "collapsed": false,
    "pycharm": {
     "name": "#%%\n"
    }
   }
  },
  {
   "cell_type": "code",
   "execution_count": 22,
   "outputs": [],
   "source": [
    "from sklearn.preprocessing import LabelEncoder\n",
    "LE=LabelEncoder()"
   ],
   "metadata": {
    "collapsed": false,
    "pycharm": {
     "name": "#%%\n"
    }
   }
  },
  {
   "cell_type": "code",
   "execution_count": 25,
   "outputs": [],
   "source": [
    "x = pd.DataFrame(columns=('FS','FU'))"
   ],
   "metadata": {
    "collapsed": false,
    "pycharm": {
     "name": "#%%\n"
    }
   }
  },
  {
   "cell_type": "code",
   "execution_count": 27,
   "outputs": [],
   "source": [
    "x['FS']=df['Fasting Sugar']\n",
    "x['FU']=LE.fit_transform(df['Frequent Unination'])"
   ],
   "metadata": {
    "collapsed": false,
    "pycharm": {
     "name": "#%%\n"
    }
   }
  },
  {
   "cell_type": "code",
   "execution_count": 28,
   "outputs": [
    {
     "data": {
      "text/plain": "     FS  FU\n0    81   1\n1   120   0\n2   150   1\n3    91   1\n4   150   0\n5    78   1\n6    90   1\n7   140   1\n8    91   0\n9   200   0\n10  195   1\n11   70   1\n12   75   0\n13  130   1\n14  125   0\n15   60   1\n16  155   0",
      "text/html": "<div>\n<style scoped>\n    .dataframe tbody tr th:only-of-type {\n        vertical-align: middle;\n    }\n\n    .dataframe tbody tr th {\n        vertical-align: top;\n    }\n\n    .dataframe thead th {\n        text-align: right;\n    }\n</style>\n<table border=\"1\" class=\"dataframe\">\n  <thead>\n    <tr style=\"text-align: right;\">\n      <th></th>\n      <th>FS</th>\n      <th>FU</th>\n    </tr>\n  </thead>\n  <tbody>\n    <tr>\n      <th>0</th>\n      <td>81</td>\n      <td>1</td>\n    </tr>\n    <tr>\n      <th>1</th>\n      <td>120</td>\n      <td>0</td>\n    </tr>\n    <tr>\n      <th>2</th>\n      <td>150</td>\n      <td>1</td>\n    </tr>\n    <tr>\n      <th>3</th>\n      <td>91</td>\n      <td>1</td>\n    </tr>\n    <tr>\n      <th>4</th>\n      <td>150</td>\n      <td>0</td>\n    </tr>\n    <tr>\n      <th>5</th>\n      <td>78</td>\n      <td>1</td>\n    </tr>\n    <tr>\n      <th>6</th>\n      <td>90</td>\n      <td>1</td>\n    </tr>\n    <tr>\n      <th>7</th>\n      <td>140</td>\n      <td>1</td>\n    </tr>\n    <tr>\n      <th>8</th>\n      <td>91</td>\n      <td>0</td>\n    </tr>\n    <tr>\n      <th>9</th>\n      <td>200</td>\n      <td>0</td>\n    </tr>\n    <tr>\n      <th>10</th>\n      <td>195</td>\n      <td>1</td>\n    </tr>\n    <tr>\n      <th>11</th>\n      <td>70</td>\n      <td>1</td>\n    </tr>\n    <tr>\n      <th>12</th>\n      <td>75</td>\n      <td>0</td>\n    </tr>\n    <tr>\n      <th>13</th>\n      <td>130</td>\n      <td>1</td>\n    </tr>\n    <tr>\n      <th>14</th>\n      <td>125</td>\n      <td>0</td>\n    </tr>\n    <tr>\n      <th>15</th>\n      <td>60</td>\n      <td>1</td>\n    </tr>\n    <tr>\n      <th>16</th>\n      <td>155</td>\n      <td>0</td>\n    </tr>\n  </tbody>\n</table>\n</div>"
     },
     "execution_count": 28,
     "metadata": {},
     "output_type": "execute_result"
    }
   ],
   "source": [
    "x"
   ],
   "metadata": {
    "collapsed": false,
    "pycharm": {
     "name": "#%%\n"
    }
   }
  },
  {
   "cell_type": "code",
   "execution_count": 29,
   "outputs": [],
   "source": [
    "from sklearn.ensemble import RandomForestClassifier\n",
    "RFC = RandomForestClassifier()"
   ],
   "metadata": {
    "collapsed": false,
    "pycharm": {
     "name": "#%%\n"
    }
   }
  },
  {
   "cell_type": "code",
   "execution_count": 30,
   "outputs": [
    {
     "name": "stderr",
     "output_type": "stream",
     "text": [
      "c:\\users\\ccm\\pycharmprojects\\flaskproject\\venv\\lib\\site-packages\\sklearn\\ensemble\\forest.py:246: FutureWarning: The default value of n_estimators will change from 10 in version 0.20 to 100 in 0.22.\n",
      "  \"10 in version 0.20 to 100 in 0.22.\", FutureWarning)\n"
     ]
    }
   ],
   "source": [
    "model=RFC.fit(x,y)"
   ],
   "metadata": {
    "collapsed": false,
    "pycharm": {
     "name": "#%%\n"
    }
   }
  },
  {
   "cell_type": "code",
   "execution_count": 32,
   "outputs": [
    {
     "data": {
      "text/plain": "array(['NO'], dtype=object)"
     },
     "execution_count": 32,
     "metadata": {},
     "output_type": "execute_result"
    }
   ],
   "source": [
    "model.predict([[115,0]])"
   ],
   "metadata": {
    "collapsed": false,
    "pycharm": {
     "name": "#%%\n"
    }
   }
  },
  {
   "cell_type": "code",
   "execution_count": 33,
   "outputs": [],
   "source": [
    "import pickle"
   ],
   "metadata": {
    "collapsed": false,
    "pycharm": {
     "name": "#%%\n"
    }
   }
  },
  {
   "cell_type": "code",
   "execution_count": 34,
   "outputs": [],
   "source": [
    "with open('my_model','wb') as f:\n",
    "    pickle.dump(RFC,f)"
   ],
   "metadata": {
    "collapsed": false,
    "pycharm": {
     "name": "#%%\n"
    }
   }
  },
  {
   "cell_type": "code",
   "execution_count": 37,
   "outputs": [],
   "source": [
    "with open('my_model','rb') as f:\n",
    "    model1 =pickle.load(f)"
   ],
   "metadata": {
    "collapsed": false,
    "pycharm": {
     "name": "#%%\n"
    }
   }
  },
  {
   "cell_type": "code",
   "execution_count": 38,
   "outputs": [
    {
     "data": {
      "text/plain": "array(['YES'], dtype=object)"
     },
     "execution_count": 38,
     "metadata": {},
     "output_type": "execute_result"
    }
   ],
   "source": [
    "model1.predict([[150,1]])"
   ],
   "metadata": {
    "collapsed": false,
    "pycharm": {
     "name": "#%%\n"
    }
   }
  },
  {
   "cell_type": "code",
   "execution_count": null,
   "outputs": [],
   "source": [],
   "metadata": {
    "collapsed": false,
    "pycharm": {
     "name": "#%%\n"
    }
   }
  }
 ],
 "metadata": {
  "kernelspec": {
   "display_name": "Python 2",
   "language": "python",
   "name": "python2"
  },
  "language_info": {
   "codemirror_mode": {
    "name": "ipython",
    "version": 2
   },
   "file_extension": ".py",
   "mimetype": "text/x-python",
   "name": "python",
   "nbconvert_exporter": "python",
   "pygments_lexer": "ipython2",
   "version": "2.7.6"
  }
 },
 "nbformat": 4,
 "nbformat_minor": 0
}